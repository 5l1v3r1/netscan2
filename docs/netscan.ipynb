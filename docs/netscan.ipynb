{
 "cells": [
  {
   "cell_type": "markdown",
   "metadata": {},
   "source": [
    "# Netscan\n",
    "\n",
    "Here is a sample of some the capabilities of the netscan library."
   ]
  },
  {
   "cell_type": "code",
   "execution_count": 2,
   "metadata": {
    "collapsed": false
   },
   "outputs": [],
   "source": [
    "from __future__ import print_function\n",
    "from netscan.lib import WhoIs, GetHostName, MacLookup, Commands\n",
    "import pprint as pp"
   ]
  },
  {
   "cell_type": "markdown",
   "metadata": {},
   "source": [
    "## Get host info\n",
    "\n",
    "On macOS or Linux, `GetHostName` should be able to resolve a computer's IP address to a hostname."
   ]
  },
  {
   "cell_type": "code",
   "execution_count": 3,
   "metadata": {
    "collapsed": false
   },
   "outputs": [
    {
     "name": "stdout",
     "output_type": "stream",
     "text": [
      "bender.local\n",
      "Tardis.local\n"
     ]
    }
   ],
   "source": [
    "print(GetHostName('192.168.1.13').name)\n",
    "print(GetHostName('127.0.0.1').name)"
   ]
  },
  {
   "cell_type": "markdown",
   "metadata": {},
   "source": [
    "`WhoIs` uses a REST API to recover a current record of an external IP address."
   ]
  },
  {
   "cell_type": "code",
   "execution_count": 10,
   "metadata": {
    "collapsed": false
   },
   "outputs": [
    {
     "name": "stdout",
     "output_type": "stream",
     "text": [
      "{u'CIDR': u'216.58.192.0/19',\n",
      " u'NetHandle': u'NET-216-58-192-0-1',\n",
      " u'NetName': u'GOOGLE',\n",
      " u'NetRange': u'216.58.192.0 - 216.58.223.255',\n",
      " u'NetType': u'Direct Allocation',\n",
      " u'Organization': u'Google Inc. (GOGL)',\n",
      " u'OriginAS': u'AS15169',\n",
      " u'Parent': u'NET216 (NET-216-0-0-0-0)',\n",
      " u'Ref': u'https',\n",
      " u'RegDate': u'2012-01-27',\n",
      " u'Updated': u'2012-01-27'}\n"
     ]
    }
   ],
   "source": [
    "pp.pprint(WhoIs('216.58.217.4').record)"
   ]
  },
  {
   "cell_type": "code",
   "execution_count": 8,
   "metadata": {
    "collapsed": false
   },
   "outputs": [
    {
     "name": "stdout",
     "output_type": "stream",
     "text": [
      "CIDR: 216.58.192.0/19\n",
      "Organization: Google Inc. (GOGL)\n"
     ]
    }
   ],
   "source": [
    "info = WhoIs('216.58.217.4')\n",
    "print('CIDR:', info.CIDR)\n",
    "print('Organization:', info.Organization)"
   ]
  },
  {
   "cell_type": "markdown",
   "metadata": {},
   "source": [
    "`MacLookup` uses a REST API to turn a MAC address into a vendor name."
   ]
  },
  {
   "cell_type": "code",
   "execution_count": 40,
   "metadata": {
    "collapsed": false
   },
   "outputs": [
    {
     "name": "stdout",
     "output_type": "stream",
     "text": [
      "{'company': u'Apple'}\n"
     ]
    }
   ],
   "source": [
    "print(MacLookup('58:b0:35:f2:55:88').vendor)"
   ]
  },
  {
   "cell_type": "markdown",
   "metadata": {},
   "source": [
    "## Commands\n",
    "\n",
    "Unfortunately it is difficult in python to execute simple commands and get the returned output. This is a simple wrapper around the obnoxiously complex subprocess command in Python."
   ]
  },
  {
   "cell_type": "code",
   "execution_count": 9,
   "metadata": {
    "collapsed": false
   },
   "outputs": [
    {
     "name": "stdout",
     "output_type": "stream",
     "text": [
      "total 16\n",
      "drwxr-xr-x   4 kevin  staff   136B Nov 23 22:34 .\n",
      "drwxr-xr-x  17 kevin  staff   578B Nov 21 21:02 ..\n",
      "drwxr-xr-x   3 kevin  staff   102B Nov 23 21:16 .ipynb_checkpoints\n",
      "-rw-r--r--   1 kevin  staff   7.6K Nov 23 22:34 netscan.ipynb\n",
      "\n",
      "hi\n",
      "\n"
     ]
    }
   ],
   "source": [
    "cmd = Commands()\n",
    "ret = cmd.getoutput('ls -alh')\n",
    "print(ret)\n",
    "\n",
    "print(Commands().getoutput('echo hi'))"
   ]
  },
  {
   "cell_type": "markdown",
   "metadata": {},
   "source": [
    "# Passive Scanning\n",
    "\n",
    "Unfortunately I currently don't know how to run python code in a jupyter notebook using `sudo`. Therefore I can't do live captures. Instead I will use a pcap."
   ]
  },
  {
   "cell_type": "code",
   "execution_count": 31,
   "metadata": {
    "collapsed": true
   },
   "outputs": [],
   "source": [
    "from netscan.PassiveScan import PassiveMapper"
   ]
  },
  {
   "cell_type": "code",
   "execution_count": 32,
   "metadata": {
    "collapsed": false
   },
   "outputs": [
    {
     "name": "stdout",
     "output_type": "stream",
     "text": [
      "[{'hostname': 'bender.local',\n",
      "  'ipv4': '192.168.1.13',\n",
      "  'ipv6': 'fe80::733e:f915:e4de:6207',\n",
      "  'mac': 'b8:27:eb:8f:23:20',\n",
      "  'tcp': [{'port': 548, 'srv': '_afpovertcp'}],\n",
      "  'type': 'arp',\n",
      "  'udp': []},\n",
      " {'hostname': 'calculon.local',\n",
      "  'ipv4': '192.168.1.8',\n",
      "  'ipv6': 'fe80::ba27:ebff:fe0a:5a17',\n",
      "  'mac': 'b8:27:eb:0a:5a:17',\n",
      "  'tcp': [{'port': 548, 'srv': '_afpovertcp'}],\n",
      "  'type': 'arp',\n",
      "  'udp': []},\n",
      " {'hostname': 'Dalek.local',\n",
      "  'tcp': [{'port': 445, 'srv': '_smb'}],\n",
      "  'type': 'rr',\n",
      "  'udp': []},\n",
      " {'ipv4': '192.168.1.2', 'mac': 'c8:2a:14:1f:18:69', 'type': 'arp'},\n",
      " {'hostname': 'Apple-TV.local',\n",
      "  'ipv6': 'fe80::18b5:5727:6dbe:d109',\n",
      "  'tcp': [{'port': 5000, 'srv': '_raop'},\n",
      "          {'port': 3689, 'srv': '_touch-able'},\n",
      "          {'port': 3689, 'srv': '_appletv-v2'}],\n",
      "  'type': 'rr',\n",
      "  'udp': []},\n",
      " {'hostname': 'hypnotoad.local',\n",
      "  'ipv4': '192.168.1.72',\n",
      "  'ipv6': 'fe80::e4cb:e6a2:8693:9651',\n",
      "  'tcp': [{'port': 548, 'srv': '_afpovertcp'}],\n",
      "  'type': 'rr',\n",
      "  'udp': []},\n",
      " {'ipv4': '192.168.1.3', 'mac': 'f8:1e:df:ea:68:20', 'type': 'arp'},\n",
      " {'ipv4': '192.168.1.1', 'mac': '6c:70:9f:ce:da:85', 'type': 'arp'}]\n"
     ]
    }
   ],
   "source": [
    "nmap = []\n",
    "pm = PassiveMapper()\n",
    "nmap = pm.pcap('../tests/test.pcap')\n",
    "nmap = pm.filter(nmap)\n",
    "nmap = pm.combine(nmap)\n",
    "nmap = pm.combine(nmap)\n",
    "pp.pprint(nmap)"
   ]
  },
  {
   "cell_type": "markdown",
   "metadata": {},
   "source": [
    "# Active Scanning\n",
    "\n",
    "Don't know how to do this using `sudo`."
   ]
  },
  {
   "cell_type": "code",
   "execution_count": 34,
   "metadata": {
    "collapsed": true
   },
   "outputs": [],
   "source": [
    "from netscan.ActiveScan import ActiveMapper"
   ]
  },
  {
   "cell_type": "code",
   "execution_count": 35,
   "metadata": {
    "collapsed": false
   },
   "outputs": [
    {
     "name": "stdout",
     "output_type": "stream",
     "text": [
      "['']\n",
      "Found 0 hosts\n",
      "[]\n"
     ]
    }
   ],
   "source": [
    "am = ActiveMapper(range(1, 1024))\n",
    "hosts = am.scan('en1')\n",
    "pp.pprint(hosts)"
   ]
  },
  {
   "cell_type": "code",
   "execution_count": 37,
   "metadata": {
    "collapsed": false
   },
   "outputs": [
    {
     "name": "stdout",
     "output_type": "stream",
     "text": [
      "bender.local\n"
     ]
    }
   ],
   "source": [
    "print(GetHostName('192.168.1.13').name)"
   ]
  },
  {
   "cell_type": "code",
   "execution_count": null,
   "metadata": {
    "collapsed": true
   },
   "outputs": [],
   "source": []
  }
 ],
 "metadata": {
  "kernelspec": {
   "display_name": "Python 2",
   "language": "python",
   "name": "python2"
  },
  "language_info": {
   "codemirror_mode": {
    "name": "ipython",
    "version": 2
   },
   "file_extension": ".py",
   "mimetype": "text/x-python",
   "name": "python",
   "nbconvert_exporter": "python",
   "pygments_lexer": "ipython2",
   "version": "2.7.12"
  }
 },
 "nbformat": 4,
 "nbformat_minor": 1
}
